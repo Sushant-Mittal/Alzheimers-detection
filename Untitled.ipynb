{
 "cells": [
  {
   "cell_type": "code",
   "execution_count": 1,
   "id": "f0aa7f47",
   "metadata": {},
   "outputs": [
    {
     "name": "stdout",
     "output_type": "stream",
     "text": [
      "CUDA is available: True\n",
      "Number of CUDA devices available: 1\n",
      "CUDA Device 0: NVIDIA GeForce RTX 3050 Ti Laptop GPU\n"
     ]
    }
   ],
   "source": [
    "import torch\n",
    "\n",
    "# Check if CUDA is available\n",
    "cuda_available = torch.cuda.is_available()\n",
    "print(\"CUDA is available:\", cuda_available)\n",
    "\n",
    "if cuda_available:\n",
    "    # Get the number of available CUDA devices\n",
    "    num_devices = torch.cuda.device_count()\n",
    "    print(\"Number of CUDA devices available:\", num_devices)\n",
    "    \n",
    "    # Print the name of each CUDA device\n",
    "    for device in range(num_devices):\n",
    "        device_name = torch.cuda.get_device_name(device)\n",
    "        print(f\"CUDA Device {device}: {device_name}\")\n",
    "else:\n",
    "    print(\"CUDA is not available. No devices to display.\")\n"
   ]
  },
  {
   "cell_type": "code",
   "execution_count": 2,
   "id": "c68ed53c",
   "metadata": {},
   "outputs": [
    {
     "name": "stdout",
     "output_type": "stream",
     "text": [
      "CUDA is available: True\n",
      "Tensor on GPU: tensor([[0.2187, 0.7627, 0.5029],\n",
      "        [0.6461, 0.7868, 0.8468],\n",
      "        [0.1306, 0.3767, 0.5147]], device='cuda:0')\n",
      "Computation result on GPU: tensor([[0.4375, 1.5254, 1.0058],\n",
      "        [1.2922, 1.5736, 1.6935],\n",
      "        [0.2612, 0.7533, 1.0295]], device='cuda:0')\n",
      "Is the tensor on the GPU? True\n"
     ]
    }
   ],
   "source": [
    "# Check if CUDA is available\n",
    "cuda_available = torch.cuda.is_available()\n",
    "print(\"CUDA is available:\", cuda_available)\n",
    "\n",
    "if cuda_available:\n",
    "    # Set the device to CUDA\n",
    "    device = torch.device(\"cuda\")\n",
    "\n",
    "    # Create a tensor and move it to the GPU\n",
    "    tensor = torch.rand(3, 3).to(device)\n",
    "    print(\"Tensor on GPU:\", tensor)\n",
    "\n",
    "    # Perform a simple computation on the GPU\n",
    "    result = tensor * 2\n",
    "    print(\"Computation result on GPU:\", result)\n",
    "    \n",
    "    # Check if the tensor is on the GPU\n",
    "    is_on_gpu = tensor.is_cuda\n",
    "    print(\"Is the tensor on the GPU?\", is_on_gpu)\n",
    "else:\n",
    "    print(\"CUDA is not available. GPU cannot be used.\")\n"
   ]
  },
  {
   "cell_type": "code",
   "execution_count": null,
   "id": "e736cd54",
   "metadata": {},
   "outputs": [],
   "source": []
  }
 ],
 "metadata": {
  "kernelspec": {
   "display_name": "Python 3 (ipykernel)",
   "language": "python",
   "name": "python3"
  },
  "language_info": {
   "codemirror_mode": {
    "name": "ipython",
    "version": 3
   },
   "file_extension": ".py",
   "mimetype": "text/x-python",
   "name": "python",
   "nbconvert_exporter": "python",
   "pygments_lexer": "ipython3",
   "version": "3.10.13"
  },
  "varInspector": {
   "cols": {
    "lenName": 16,
    "lenType": 16,
    "lenVar": 40
   },
   "kernels_config": {
    "python": {
     "delete_cmd_postfix": "",
     "delete_cmd_prefix": "del ",
     "library": "var_list.py",
     "varRefreshCmd": "print(var_dic_list())"
    },
    "r": {
     "delete_cmd_postfix": ") ",
     "delete_cmd_prefix": "rm(",
     "library": "var_list.r",
     "varRefreshCmd": "cat(var_dic_list()) "
    }
   },
   "types_to_exclude": [
    "module",
    "function",
    "builtin_function_or_method",
    "instance",
    "_Feature"
   ],
   "window_display": false
  }
 },
 "nbformat": 4,
 "nbformat_minor": 5
}
